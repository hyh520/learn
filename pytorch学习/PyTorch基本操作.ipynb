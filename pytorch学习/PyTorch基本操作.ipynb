{
 "cells": [
  {
   "cell_type": "code",
   "execution_count": 2,
   "metadata": {
    "collapsed": true,
    "pycharm": {
     "name": "#%%\n"
    }
   },
   "outputs": [
    {
     "data": {
      "text/plain": "'1.8.1+cu102'"
     },
     "execution_count": 2,
     "metadata": {},
     "output_type": "execute_result"
    }
   ],
   "source": [
    "import torch\n",
    "torch.__version__"
   ]
  },
  {
   "cell_type": "markdown",
   "source": [
    "基本使用方法"
   ],
   "metadata": {
    "collapsed": false,
    "pycharm": {
     "name": "#%% md\n"
    }
   }
  },
  {
   "cell_type": "code",
   "execution_count": 3,
   "outputs": [
    {
     "data": {
      "text/plain": "tensor([[1.6932e+22, 1.8449e+28, 1.1095e+27],\n        [6.7109e+22, 1.6486e+22, 4.3605e+27],\n        [2.8929e+12, 7.5338e+28, 1.8037e+28],\n        [3.4740e-12, 1.7743e+28, 2.0535e-19],\n        [1.4609e-19, 7.5630e+28, 1.6745e+19]])"
     },
     "execution_count": 3,
     "metadata": {},
     "output_type": "execute_result"
    }
   ],
   "source": [
    "# 创建一个矩阵\n",
    "a=torch.empty(5,3)\n",
    "a"
   ],
   "metadata": {
    "collapsed": false,
    "pycharm": {
     "name": "#%%\n"
    }
   }
  },
  {
   "cell_type": "code",
   "execution_count": 4,
   "outputs": [
    {
     "data": {
      "text/plain": "tensor([[0.7481, 0.0364, 0.8010, 0.7603],\n        [0.2166, 0.6911, 0.3191, 0.2193],\n        [0.6257, 0.5788, 0.3802, 0.4321],\n        [0.9042, 0.2773, 0.0907, 0.1096]])"
     },
     "execution_count": 4,
     "metadata": {},
     "output_type": "execute_result"
    }
   ],
   "source": [
    "# 生成均匀分布随机数【0-1之间】\n",
    "a=torch.rand(4,4)\n",
    "a"
   ],
   "metadata": {
    "collapsed": false,
    "pycharm": {
     "name": "#%%\n"
    }
   }
  },
  {
   "cell_type": "code",
   "execution_count": 5,
   "outputs": [
    {
     "data": {
      "text/plain": "tensor([[0, 0, 0],\n        [0, 0, 0],\n        [0, 0, 0],\n        [0, 0, 0],\n        [0, 0, 0]])"
     },
     "execution_count": 5,
     "metadata": {},
     "output_type": "execute_result"
    }
   ],
   "source": [
    "# 初始化一个全0的矩阵（张量）\n",
    "a=torch.zeros(5,3,dtype=torch.long)\n",
    "a"
   ],
   "metadata": {
    "collapsed": false,
    "pycharm": {
     "name": "#%%\n"
    }
   }
  },
  {
   "cell_type": "code",
   "execution_count": 6,
   "outputs": [
    {
     "data": {
      "text/plain": "tensor([5.5000, 3.0000])"
     },
     "execution_count": 6,
     "metadata": {},
     "output_type": "execute_result"
    }
   ],
   "source": [
    "# 直接插入一个值\n",
    "a=torch.tensor([5.5,3])\n",
    "a"
   ],
   "metadata": {
    "collapsed": false,
    "pycharm": {
     "name": "#%%\n"
    }
   }
  },
  {
   "cell_type": "code",
   "execution_count": 10,
   "outputs": [
    {
     "data": {
      "text/plain": "(tensor([[1., 1., 1.],\n         [1., 1., 1.],\n         [1., 1., 1.],\n         [1., 1., 1.],\n         [1., 1., 1.]], dtype=torch.float64),\n tensor([[0.1464, 0.3791, 0.4199],\n         [0.8641, 0.2255, 0.9264],\n         [0.5310, 0.6971, 0.4094],\n         [0.1684, 0.6262, 0.5006],\n         [0.4506, 0.5980, 0.4668]]))"
     },
     "execution_count": 10,
     "metadata": {},
     "output_type": "execute_result"
    }
   ],
   "source": [
    "# 返回一个值全为1的tensor\n",
    "a=a.new_ones(5,3,dtype=torch.double)\n",
    "# 返回一个维度与a一样的值随机的tensor\n",
    "b=torch.rand_like(a,dtype=torch.float)\n",
    "a,b"
   ],
   "metadata": {
    "collapsed": false,
    "pycharm": {
     "name": "#%%\n"
    }
   }
  },
  {
   "cell_type": "code",
   "execution_count": 11,
   "outputs": [
    {
     "data": {
      "text/plain": "torch.Size([5, 3])"
     },
     "execution_count": 11,
     "metadata": {},
     "output_type": "execute_result"
    }
   ],
   "source": [
    "# 展示tensor大小\n",
    "a.size()"
   ],
   "metadata": {
    "collapsed": false,
    "pycharm": {
     "name": "#%%\n"
    }
   }
  },
  {
   "cell_type": "code",
   "execution_count": 12,
   "outputs": [
    {
     "data": {
      "text/plain": "tensor([[0.7610, 1.3111, 1.2629],\n        [0.9623, 1.2248, 0.9304],\n        [0.8595, 1.4957, 0.9073],\n        [0.5861, 0.6316, 0.9369],\n        [1.1565, 0.9602, 1.3596]])"
     },
     "execution_count": 12,
     "metadata": {},
     "output_type": "execute_result"
    }
   ],
   "source": [
    "c=torch.rand(5,3)\n",
    "# tensor 运算\n",
    "b+c"
   ],
   "metadata": {
    "collapsed": false,
    "pycharm": {
     "name": "#%%\n"
    }
   }
  },
  {
   "cell_type": "code",
   "execution_count": 13,
   "outputs": [
    {
     "data": {
      "text/plain": "tensor([[0.7610, 1.3111, 1.2629],\n        [0.9623, 1.2248, 0.9304],\n        [0.8595, 1.4957, 0.9073],\n        [0.5861, 0.6316, 0.9369],\n        [1.1565, 0.9602, 1.3596]])"
     },
     "execution_count": 13,
     "metadata": {},
     "output_type": "execute_result"
    }
   ],
   "source": [
    "# 也是加法\n",
    "torch.add(b,c)"
   ],
   "metadata": {
    "collapsed": false,
    "pycharm": {
     "name": "#%%\n"
    }
   }
  },
  {
   "cell_type": "code",
   "execution_count": 14,
   "outputs": [
    {
     "data": {
      "text/plain": "tensor([0.3791, 0.2255, 0.6971, 0.6262, 0.5980])"
     },
     "execution_count": 14,
     "metadata": {},
     "output_type": "execute_result"
    }
   ],
   "source": [
    "# 索引，与数组一样\n",
    "b[:,1]"
   ],
   "metadata": {
    "collapsed": false,
    "pycharm": {
     "name": "#%%\n"
    }
   }
  },
  {
   "cell_type": "code",
   "execution_count": 16,
   "outputs": [
    {
     "name": "stdout",
     "output_type": "stream",
     "text": [
      "torch.Size([4, 4]) torch.Size([16]) torch.Size([2, 8])\n"
     ]
    },
    {
     "data": {
      "text/plain": "(tensor([[-0.4640,  0.5871, -0.6569,  1.0433],\n         [ 0.1010,  2.5754, -1.9033,  0.0491],\n         [ 0.0621, -1.1943,  0.8206, -0.4884],\n         [-0.1543, -0.4383, -0.1169, -1.4913]]),\n tensor([-0.4640,  0.5871, -0.6569,  1.0433,  0.1010,  2.5754, -1.9033,  0.0491,\n          0.0621, -1.1943,  0.8206, -0.4884, -0.1543, -0.4383, -0.1169, -1.4913]),\n tensor([[-0.4640,  0.5871, -0.6569,  1.0433,  0.1010,  2.5754, -1.9033,  0.0491],\n         [ 0.0621, -1.1943,  0.8206, -0.4884, -0.1543, -0.4383, -0.1169, -1.4913]]))"
     },
     "execution_count": 16,
     "metadata": {},
     "output_type": "execute_result"
    }
   ],
   "source": [
    "# 生成标准正态分布随机数【均值=0，标准差=1】\n",
    "x=torch.randn(4,4)\n",
    "# 改变维度\n",
    "y=x.view(16)\n",
    "# -1代表自动计算转成多少行（列）\n",
    "z=x.view(-1,8)\n",
    "print(x.size(),y.size(),z.size())\n",
    "x,y,z"
   ],
   "metadata": {
    "collapsed": false,
    "pycharm": {
     "name": "#%%\n"
    }
   }
  },
  {
   "cell_type": "code",
   "execution_count": 17,
   "outputs": [
    {
     "data": {
      "text/plain": "array([1., 1., 1., 1., 1.], dtype=float32)"
     },
     "execution_count": 17,
     "metadata": {},
     "output_type": "execute_result"
    }
   ],
   "source": [
    "# 与numpy的协同操作\n",
    "a=torch.ones(5)\n",
    "b=a.numpy()\n",
    "b"
   ],
   "metadata": {
    "collapsed": false,
    "pycharm": {
     "name": "#%%\n"
    }
   }
  },
  {
   "cell_type": "code",
   "execution_count": 18,
   "outputs": [
    {
     "data": {
      "text/plain": "tensor([1., 1., 1., 1., 1.], dtype=torch.float64)"
     },
     "execution_count": 18,
     "metadata": {},
     "output_type": "execute_result"
    }
   ],
   "source": [
    "import numpy as np\n",
    "a=np.ones(5)\n",
    "b=torch.from_numpy(a)\n",
    "b"
   ],
   "metadata": {
    "collapsed": false,
    "pycharm": {
     "name": "#%%\n"
    }
   }
  }
 ],
 "metadata": {
  "kernelspec": {
   "display_name": "Python 3",
   "language": "python",
   "name": "python3"
  },
  "language_info": {
   "codemirror_mode": {
    "name": "ipython",
    "version": 2
   },
   "file_extension": ".py",
   "mimetype": "text/x-python",
   "name": "python",
   "nbconvert_exporter": "python",
   "pygments_lexer": "ipython2",
   "version": "2.7.6"
  }
 },
 "nbformat": 4,
 "nbformat_minor": 0
}