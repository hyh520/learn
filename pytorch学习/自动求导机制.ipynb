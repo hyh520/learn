{
 "cells": [
  {
   "cell_type": "code",
   "execution_count": 2,
   "metadata": {
    "collapsed": true,
    "pycharm": {
     "name": "#%%\n"
    }
   },
   "outputs": [],
   "source": [
    "import torch"
   ]
  },
  {
   "cell_type": "markdown",
   "source": [
    "# 需要求导的，可以手动定义"
   ],
   "metadata": {
    "collapsed": false,
    "pycharm": {
     "name": "#%% md\n"
    }
   }
  },
  {
   "cell_type": "code",
   "execution_count": 3,
   "outputs": [
    {
     "data": {
      "text/plain": "tensor([[-0.0407, -0.6299,  0.1328, -0.3474],\n        [ 1.7371, -1.0629, -2.1029, -0.6903],\n        [-0.1543,  1.1164, -0.2421,  1.7917]], requires_grad=True)"
     },
     "execution_count": 3,
     "metadata": {},
     "output_type": "execute_result"
    }
   ],
   "source": [
    "# requires_grad=True,表示计算过程中保留参数的梯度\n",
    "# 方法1\n",
    "x=torch.randn(3,4,requires_grad=True)\n",
    "x"
   ],
   "metadata": {
    "collapsed": false,
    "pycharm": {
     "name": "#%%\n"
    }
   }
  },
  {
   "cell_type": "code",
   "execution_count": 4,
   "outputs": [
    {
     "data": {
      "text/plain": "tensor([[ 2.2543,  1.1056, -1.5862,  1.4370],\n        [-1.5083,  0.2337, -0.3712, -0.4232],\n        [ 0.3995, -0.0545, -1.4110, -1.0170]], requires_grad=True)"
     },
     "execution_count": 4,
     "metadata": {},
     "output_type": "execute_result"
    }
   ],
   "source": [
    "# 方法2\n",
    "x=torch.randn(3,4)\n",
    "x.requires_grad=True\n",
    "x"
   ],
   "metadata": {
    "collapsed": false,
    "pycharm": {
     "name": "#%%\n"
    }
   }
  },
  {
   "cell_type": "code",
   "execution_count": 5,
   "outputs": [
    {
     "data": {
      "text/plain": "tensor(-2.9886, grad_fn=<SumBackward0>)"
     },
     "execution_count": 5,
     "metadata": {},
     "output_type": "execute_result"
    }
   ],
   "source": [
    "b=torch.randn(3,4,requires_grad=True)\n",
    "t=x+b\n",
    "y=t.sum()\n",
    "y"
   ],
   "metadata": {
    "collapsed": false,
    "pycharm": {
     "name": "#%%\n"
    }
   }
  },
  {
   "cell_type": "code",
   "execution_count": 6,
   "outputs": [],
   "source": [
    "y.backward()"
   ],
   "metadata": {
    "collapsed": false,
    "pycharm": {
     "name": "#%%\n"
    }
   }
  },
  {
   "cell_type": "code",
   "execution_count": 8,
   "outputs": [
    {
     "data": {
      "text/plain": "tensor([[1., 1., 1., 1.],\n        [1., 1., 1., 1.],\n        [1., 1., 1., 1.]])"
     },
     "execution_count": 8,
     "metadata": {},
     "output_type": "execute_result"
    }
   ],
   "source": [
    "b.grad"
   ],
   "metadata": {
    "collapsed": false,
    "pycharm": {
     "name": "#%%\n"
    }
   }
  },
  {
   "cell_type": "code",
   "execution_count": 9,
   "outputs": [
    {
     "data": {
      "text/plain": "(True, True, True)"
     },
     "execution_count": 9,
     "metadata": {},
     "output_type": "execute_result"
    }
   ],
   "source": [
    "x.requires_grad,b.requires_grad,t.requires_grad"
   ],
   "metadata": {
    "collapsed": false,
    "pycharm": {
     "name": "#%%\n"
    }
   }
  },
  {
   "cell_type": "markdown",
   "source": [
    "# 举个例子"
   ],
   "metadata": {
    "collapsed": false,
    "pycharm": {
     "name": "#%% md\n"
    }
   }
  },
  {
   "cell_type": "code",
   "execution_count": 10,
   "outputs": [],
   "source": [
    "# y=wx  z=y+b\n",
    "x=torch.rand(1)\n",
    "b=torch.rand(1,requires_grad=True)\n",
    "w=torch.rand(1,requires_grad=True)\n",
    "y=w*x\n",
    "z=y+b"
   ],
   "metadata": {
    "collapsed": false,
    "pycharm": {
     "name": "#%%\n"
    }
   }
  },
  {
   "cell_type": "code",
   "execution_count": 11,
   "outputs": [
    {
     "data": {
      "text/plain": "(False, True, True, True)"
     },
     "execution_count": 11,
     "metadata": {},
     "output_type": "execute_result"
    }
   ],
   "source": [
    "x.requires_grad,b.requires_grad,w.requires_grad,y.requires_grad"
   ],
   "metadata": {
    "collapsed": false,
    "pycharm": {
     "name": "#%%\n"
    }
   }
  },
  {
   "cell_type": "code",
   "execution_count": 26,
   "outputs": [],
   "source": [
    "# 反向传播\n",
    "z.backward(retain_graph=True)#如果不清空梯度会累加起来"
   ],
   "metadata": {
    "collapsed": false,
    "pycharm": {
     "name": "#%%\n"
    }
   }
  },
  {
   "cell_type": "code",
   "execution_count": 27,
   "outputs": [
    {
     "data": {
      "text/plain": "tensor([0.5165])"
     },
     "execution_count": 27,
     "metadata": {},
     "output_type": "execute_result"
    }
   ],
   "source": [
    "w.grad"
   ],
   "metadata": {
    "collapsed": false,
    "pycharm": {
     "name": "#%%\n"
    }
   }
  },
  {
   "cell_type": "code",
   "execution_count": 28,
   "outputs": [
    {
     "data": {
      "text/plain": "tensor([5.])"
     },
     "execution_count": 28,
     "metadata": {},
     "output_type": "execute_result"
    }
   ],
   "source": [
    "b.grad"
   ],
   "metadata": {
    "collapsed": false,
    "pycharm": {
     "name": "#%%\n"
    }
   }
  },
  {
   "cell_type": "code",
   "execution_count": null,
   "outputs": [],
   "source": [],
   "metadata": {
    "collapsed": false,
    "pycharm": {
     "name": "#%%\n"
    }
   }
  },
  {
   "cell_type": "markdown",
   "source": [
    "# 线性回归demo"
   ],
   "metadata": {
    "collapsed": false,
    "pycharm": {
     "name": "#%% md\n"
    }
   }
  },
  {
   "cell_type": "code",
   "execution_count": 59,
   "outputs": [
    {
     "data": {
      "text/plain": "(11, 1)"
     },
     "execution_count": 59,
     "metadata": {},
     "output_type": "execute_result"
    }
   ],
   "source": [
    "import numpy as np\n",
    "from numpy import float32\n",
    "# 构造一组输入数据x和其对应的标签y\n",
    "x_values=[i for i in range(11)]\n",
    "x_train=np.array(x_values,dtype=float32)\n",
    "x_train=x_train.reshape(-1,1)\n",
    "x_train.shape"
   ],
   "metadata": {
    "collapsed": false,
    "pycharm": {
     "name": "#%%\n"
    }
   }
  },
  {
   "cell_type": "code",
   "execution_count": 60,
   "outputs": [
    {
     "data": {
      "text/plain": "(11, 1)"
     },
     "execution_count": 60,
     "metadata": {},
     "output_type": "execute_result"
    }
   ],
   "source": [
    "y_values=[2*i+1 for i in x_values]\n",
    "y_train=np.array(y_values,dtype=float32)\n",
    "y_train=y_train.reshape(-1,1)\n",
    "y_train.shape"
   ],
   "metadata": {
    "collapsed": false,
    "pycharm": {
     "name": "#%%\n"
    }
   }
  },
  {
   "cell_type": "code",
   "execution_count": 61,
   "outputs": [],
   "source": [
    "import torch.nn as nn"
   ],
   "metadata": {
    "collapsed": false,
    "pycharm": {
     "name": "#%%\n"
    }
   }
  },
  {
   "cell_type": "markdown",
   "source": [
    "# 线性回归模型\n",
    "- 线性回归模型其实就是一个不加激活函数的全连接层"
   ],
   "metadata": {
    "collapsed": false,
    "pycharm": {
     "name": "#%% md\n"
    }
   }
  },
  {
   "cell_type": "code",
   "execution_count": 62,
   "outputs": [],
   "source": [
    "class LinearRegressionModel(nn.Module):\n",
    "    def __init__(self,input_dim,output_dim):\n",
    "        super(LinearRegressionModel,self).__init__()\n",
    "        self.linear=nn.Linear(input_dim,output_dim)\n",
    "\n",
    "    def forward(self,x):\n",
    "        out=self.linear(x)\n",
    "        return out"
   ],
   "metadata": {
    "collapsed": false,
    "pycharm": {
     "name": "#%%\n"
    }
   }
  },
  {
   "cell_type": "code",
   "execution_count": 63,
   "outputs": [
    {
     "data": {
      "text/plain": "LinearRegressionModel(\n  (linear): Linear(in_features=1, out_features=1, bias=True)\n)"
     },
     "execution_count": 63,
     "metadata": {},
     "output_type": "execute_result"
    }
   ],
   "source": [
    "input_dim=1\n",
    "output_dim=1\n",
    "model=LinearRegressionModel(input_dim,output_dim)\n",
    "model"
   ],
   "metadata": {
    "collapsed": false,
    "pycharm": {
     "name": "#%%\n"
    }
   }
  },
  {
   "cell_type": "code",
   "execution_count": 66,
   "outputs": [],
   "source": [
    "# 指定参数和损失函数\n",
    "epochs=1000\n",
    "learning_rate=0.01\n",
    "optimizer=torch.optim.SGD(model.parameters(),lr=learning_rate)\n",
    "criterion=nn.MSELoss()"
   ],
   "metadata": {
    "collapsed": false,
    "pycharm": {
     "name": "#%%\n"
    }
   }
  },
  {
   "cell_type": "code",
   "execution_count": 67,
   "outputs": [
    {
     "name": "stdout",
     "output_type": "stream",
     "text": [
      "epoch 50 , loss 0.04780242592096329\n",
      "epoch 100 , loss 0.027264632284641266\n",
      "epoch 150 , loss 0.015550735406577587\n",
      "epoch 200 , loss 0.008869527839124203\n",
      "epoch 250 , loss 0.005058857146650553\n",
      "epoch 300 , loss 0.002885378198698163\n",
      "epoch 350 , loss 0.0016457189340144396\n",
      "epoch 400 , loss 0.0009386493475176394\n",
      "epoch 450 , loss 0.0005353694432415068\n",
      "epoch 500 , loss 0.00030535535188391805\n",
      "epoch 550 , loss 0.00017416592163499445\n",
      "epoch 600 , loss 9.93342837318778e-05\n",
      "epoch 650 , loss 5.6657157983863726e-05\n",
      "epoch 700 , loss 3.231425580452196e-05\n",
      "epoch 750 , loss 1.8431570424581878e-05\n",
      "epoch 800 , loss 1.0512324479350355e-05\n",
      "epoch 850 , loss 5.996609615976922e-06\n",
      "epoch 900 , loss 3.4189170037279837e-06\n",
      "epoch 950 , loss 1.949875922946376e-06\n",
      "epoch 1000 , loss 1.1128660162285087e-06\n"
     ]
    }
   ],
   "source": [
    "# 训练模型\n",
    "for epoch in range(epochs):\n",
    "    epoch+=1\n",
    "    # 转化成tensor\n",
    "    inputs=torch.from_numpy(x_train)\n",
    "    labels=torch.from_numpy(y_train)\n",
    "\n",
    "    # 梯度要清零每一次迭代\n",
    "    optimizer.zero_grad()\n",
    "\n",
    "    # 前向传播\n",
    "    outputs=model(inputs)\n",
    "\n",
    "    # 计算损失\n",
    "    loss=criterion(outputs,labels)\n",
    "\n",
    "    # 反向传播\n",
    "    loss.backward()\n",
    "\n",
    "    # 更新权重参数\n",
    "    optimizer.step()\n",
    "    if epoch%50==0:\n",
    "        print('epoch {} , loss {}'.format(epoch,loss.item()))"
   ],
   "metadata": {
    "collapsed": false,
    "pycharm": {
     "name": "#%%\n"
    }
   }
  },
  {
   "cell_type": "code",
   "execution_count": 74,
   "outputs": [
    {
     "data": {
      "text/plain": "array([[ 0.99803805],\n       [ 2.9983206 ],\n       [ 4.998603  ],\n       [ 6.998886  ],\n       [ 8.999168  ],\n       [10.999451  ],\n       [12.999734  ],\n       [15.000016  ],\n       [17.000298  ],\n       [19.00058   ],\n       [21.000862  ]], dtype=float32)"
     },
     "execution_count": 74,
     "metadata": {},
     "output_type": "execute_result"
    }
   ],
   "source": [
    "# 测试模型预测结果\n",
    "predicted=model(torch.from_numpy(x_train).requires_grad_()).data.numpy()\n",
    "predicted"
   ],
   "metadata": {
    "collapsed": false,
    "pycharm": {
     "name": "#%%\n"
    }
   }
  },
  {
   "cell_type": "code",
   "execution_count": null,
   "outputs": [],
   "source": [
    "# 模型的保存与读取"
   ],
   "metadata": {
    "collapsed": false,
    "pycharm": {
     "name": "#%%\n"
    }
   }
  },
  {
   "cell_type": "code",
   "execution_count": 75,
   "outputs": [],
   "source": [
    "torch.save(model.state_dict(),'model.pkl')"
   ],
   "metadata": {
    "collapsed": false,
    "pycharm": {
     "name": "#%%\n"
    }
   }
  },
  {
   "cell_type": "code",
   "execution_count": 77,
   "outputs": [
    {
     "data": {
      "text/plain": "<All keys matched successfully>"
     },
     "execution_count": 77,
     "metadata": {},
     "output_type": "execute_result"
    }
   ],
   "source": [
    "model.load_state_dict(torch.load('model.pkl'))"
   ],
   "metadata": {
    "collapsed": false,
    "pycharm": {
     "name": "#%%\n"
    }
   }
  },
  {
   "cell_type": "code",
   "execution_count": null,
   "outputs": [],
   "source": [
    "# 使用GPU进行训练"
   ],
   "metadata": {
    "collapsed": false,
    "pycharm": {
     "name": "#%%\n"
    }
   }
  },
  {
   "cell_type": "code",
   "execution_count": 78,
   "outputs": [
    {
     "name": "stdout",
     "output_type": "stream",
     "text": [
      "epoch 50 , loss 0.1486671268939972\n",
      "epoch 100 , loss 0.08479418605566025\n",
      "epoch 150 , loss 0.048363447189331055\n",
      "epoch 200 , loss 0.027584658935666084\n",
      "epoch 250 , loss 0.015733283013105392\n",
      "epoch 300 , loss 0.008973699063062668\n",
      "epoch 350 , loss 0.005118268076330423\n",
      "epoch 400 , loss 0.0029192534275352955\n",
      "epoch 450 , loss 0.0016650266479700804\n",
      "epoch 500 , loss 0.0009496742277406156\n",
      "epoch 550 , loss 0.0005416572676040232\n",
      "epoch 600 , loss 0.00030893986695446074\n",
      "epoch 650 , loss 0.00017621157167013735\n",
      "epoch 700 , loss 0.00010050376295112073\n",
      "epoch 750 , loss 5.732156569138169e-05\n",
      "epoch 800 , loss 3.269395892857574e-05\n",
      "epoch 850 , loss 1.86480119737098e-05\n",
      "epoch 900 , loss 1.063610125129344e-05\n",
      "epoch 950 , loss 6.066492460377049e-06\n",
      "epoch 1000 , loss 3.460440211711102e-06\n"
     ]
    }
   ],
   "source": [
    "class LinearRegressionModel(nn.Module):\n",
    "    def __init__(self,input_dim,output_dim):\n",
    "        super(LinearRegressionModel,self).__init__()\n",
    "        self.linear=nn.Linear(input_dim,output_dim)\n",
    "\n",
    "    def forward(self,x):\n",
    "        out=self.linear(x)\n",
    "        return out\n",
    "\n",
    "input_dim=1\n",
    "output_dim=1\n",
    "model=LinearRegressionModel(input_dim,output_dim)\n",
    "\n",
    "# 使用gpu\n",
    "device=torch.device('cuda:0' if torch.cuda.is_available() else 'cpu')\n",
    "model.to(device)\n",
    "\n",
    "epochs=1000\n",
    "learning_rate=0.01\n",
    "optimizer=torch.optim.SGD(model.parameters(),lr=learning_rate)\n",
    "criterion=nn.MSELoss()\n",
    "\n",
    "# 训练模型\n",
    "for epoch in range(epochs):\n",
    "    epoch+=1\n",
    "    # 转化成tensor,使用gpu\n",
    "    inputs=torch.from_numpy(x_train).to(device)\n",
    "    labels=torch.from_numpy(y_train).to(device)\n",
    "\n",
    "    # 梯度要清零每一次迭代\n",
    "    optimizer.zero_grad()\n",
    "\n",
    "    # 前向传播\n",
    "    outputs=model(inputs)\n",
    "\n",
    "    # 计算损失\n",
    "    loss=criterion(outputs,labels)\n",
    "\n",
    "    # 反向传播\n",
    "    loss.backward()\n",
    "\n",
    "    # 更新权重参数\n",
    "    optimizer.step()\n",
    "    if epoch%50==0:\n",
    "        print('epoch {} , loss {}'.format(epoch,loss.item()))"
   ],
   "metadata": {
    "collapsed": false,
    "pycharm": {
     "name": "#%%\n"
    }
   }
  }
 ],
 "metadata": {
  "kernelspec": {
   "display_name": "Python 3",
   "language": "python",
   "name": "python3"
  },
  "language_info": {
   "codemirror_mode": {
    "name": "ipython",
    "version": 2
   },
   "file_extension": ".py",
   "mimetype": "text/x-python",
   "name": "python",
   "nbconvert_exporter": "python",
   "pygments_lexer": "ipython2",
   "version": "2.7.6"
  }
 },
 "nbformat": 4,
 "nbformat_minor": 0
}